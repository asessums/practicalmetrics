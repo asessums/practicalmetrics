{
 "cells": [
  {
   "cell_type": "markdown",
   "id": "3da19013",
   "metadata": {},
   "source": []
  },
  {
   "cell_type": "code",
   "execution_count": 44,
   "id": "9b56189a",
   "metadata": {},
   "outputs": [],
   "source": [
    "# Weekly Metrics"
   ]
  },
  {
   "cell_type": "code",
   "execution_count": 54,
   "id": "85d8081e",
   "metadata": {},
   "outputs": [],
   "source": [
    "library(ggplot2)\n",
    "library(scales)"
   ]
  },
  {
   "cell_type": "code",
   "execution_count": 46,
   "id": "916fe6f8",
   "metadata": {},
   "outputs": [
    {
     "data": {
      "text/html": [
       "<table>\n",
       "<thead><tr><th scope=col>Date</th><th scope=col>Quantity</th></tr></thead>\n",
       "<tbody>\n",
       "\t<tr><td>2013/05/25</td><td> 9        </td></tr>\n",
       "\t<tr><td>2013/05/28</td><td> 1        </td></tr>\n",
       "\t<tr><td>2013/05/31</td><td>15        </td></tr>\n",
       "\t<tr><td>2013/06/01</td><td> 4        </td></tr>\n",
       "\t<tr><td>2013/06/02</td><td> 5        </td></tr>\n",
       "\t<tr><td>2013/06/05</td><td>17        </td></tr>\n",
       "\t<tr><td>2013/06/07</td><td>18        </td></tr>\n",
       "</tbody>\n",
       "</table>\n"
      ],
      "text/latex": [
       "\\begin{tabular}{r|ll}\n",
       " Date & Quantity\\\\\n",
       "\\hline\n",
       "\t 2013/05/25 &  9        \\\\\n",
       "\t 2013/05/28 &  1        \\\\\n",
       "\t 2013/05/31 & 15        \\\\\n",
       "\t 2013/06/01 &  4        \\\\\n",
       "\t 2013/06/02 &  5        \\\\\n",
       "\t 2013/06/05 & 17        \\\\\n",
       "\t 2013/06/07 & 18        \\\\\n",
       "\\end{tabular}\n"
      ],
      "text/markdown": [
       "\n",
       "| Date | Quantity |\n",
       "|---|---|\n",
       "| 2013/05/25 |  9         |\n",
       "| 2013/05/28 |  1         |\n",
       "| 2013/05/31 | 15         |\n",
       "| 2013/06/01 |  4         |\n",
       "| 2013/06/02 |  5         |\n",
       "| 2013/06/05 | 17         |\n",
       "| 2013/06/07 | 18         |\n",
       "\n"
      ],
      "text/plain": [
       "  Date       Quantity\n",
       "1 2013/05/25  9      \n",
       "2 2013/05/28  1      \n",
       "3 2013/05/31 15      \n",
       "4 2013/06/01  4      \n",
       "5 2013/06/02  5      \n",
       "6 2013/06/05 17      \n",
       "7 2013/06/07 18      "
      ]
     },
     "metadata": {},
     "output_type": "display_data"
    },
    {
     "name": "stdout",
     "output_type": "stream",
     "text": [
      "'data.frame':\t7 obs. of  2 variables:\n",
      " $ Date    : Factor w/ 7 levels \"2013/05/25\",\"2013/05/28\",..: 1 2 3 4 5 6 7\n",
      " $ Quantity: num  9 1 15 4 5 17 18\n"
     ]
    }
   ],
   "source": [
    "# load data\n",
    "\n",
    "log <-data.frame(Date = c(\"2013/05/25\",\"2013/05/28\",\"2013/05/31\",\"2013/06/01\",\"2013/06/02\",\"2013/06/05\",\"2013/06/07\"),\n",
    "                 Quantity = c(9,1,15,4,5,17,18))\n",
    "log\n",
    "str(log)"
   ]
  },
  {
   "cell_type": "code",
   "execution_count": 47,
   "id": "79fff859",
   "metadata": {},
   "outputs": [
    {
     "name": "stdout",
     "output_type": "stream",
     "text": [
      "'data.frame':\t7 obs. of  2 variables:\n",
      " $ Date    : Date, format: \"2013-05-25\" \"2013-05-28\" ...\n",
      " $ Quantity: num  9 1 15 4 5 17 18\n"
     ]
    }
   ],
   "source": [
    "# convert date variable from factor to date format:\n",
    "log$Date <- as.Date(log$Date,\n",
    "  \"%Y/%m/%d\") # tabulate all the options here\n",
    "str(log) "
   ]
  },
  {
   "cell_type": "code",
   "execution_count": 48,
   "id": "2ff4e521",
   "metadata": {},
   "outputs": [
    {
     "name": "stdout",
     "output_type": "stream",
     "text": [
      "'data.frame':\t7 obs. of  2 variables:\n",
      " $ Date    : Date, format: \"2013-05-25\" \"2013-05-28\" ...\n",
      " $ Quantity: num  9 1 15 4 5 17 18\n"
     ]
    }
   ],
   "source": [
    "str(log)"
   ]
  },
  {
   "cell_type": "code",
   "execution_count": 49,
   "id": "148f7ad2",
   "metadata": {},
   "outputs": [
    {
     "data": {
      "text/html": [
       "<table>\n",
       "<thead><tr><th scope=col>Date</th><th scope=col>Quantity</th><th scope=col>Month</th><th scope=col>Week</th></tr></thead>\n",
       "<tbody>\n",
       "\t<tr><td>2013-05-25</td><td> 9        </td><td>2013-05-01</td><td>2013-05-19</td></tr>\n",
       "\t<tr><td>2013-05-28</td><td> 1        </td><td>2013-05-01</td><td>2013-05-26</td></tr>\n",
       "\t<tr><td>2013-05-31</td><td>15        </td><td>2013-05-01</td><td>2013-05-26</td></tr>\n",
       "\t<tr><td>2013-06-01</td><td> 4        </td><td>2013-06-01</td><td>2013-05-26</td></tr>\n",
       "\t<tr><td>2013-06-02</td><td> 5        </td><td>2013-06-01</td><td>2013-06-02</td></tr>\n",
       "\t<tr><td>2013-06-05</td><td>17        </td><td>2013-06-01</td><td>2013-06-02</td></tr>\n",
       "\t<tr><td>2013-06-07</td><td>18        </td><td>2013-06-01</td><td>2013-06-02</td></tr>\n",
       "</tbody>\n",
       "</table>\n"
      ],
      "text/latex": [
       "\\begin{tabular}{r|llll}\n",
       " Date & Quantity & Month & Week\\\\\n",
       "\\hline\n",
       "\t 2013-05-25 &  9         & 2013-05-01 & 2013-05-19\\\\\n",
       "\t 2013-05-28 &  1         & 2013-05-01 & 2013-05-26\\\\\n",
       "\t 2013-05-31 & 15         & 2013-05-01 & 2013-05-26\\\\\n",
       "\t 2013-06-01 &  4         & 2013-06-01 & 2013-05-26\\\\\n",
       "\t 2013-06-02 &  5         & 2013-06-01 & 2013-06-02\\\\\n",
       "\t 2013-06-05 & 17         & 2013-06-01 & 2013-06-02\\\\\n",
       "\t 2013-06-07 & 18         & 2013-06-01 & 2013-06-02\\\\\n",
       "\\end{tabular}\n"
      ],
      "text/markdown": [
       "\n",
       "| Date | Quantity | Month | Week |\n",
       "|---|---|---|---|\n",
       "| 2013-05-25 |  9         | 2013-05-01 | 2013-05-19 |\n",
       "| 2013-05-28 |  1         | 2013-05-01 | 2013-05-26 |\n",
       "| 2013-05-31 | 15         | 2013-05-01 | 2013-05-26 |\n",
       "| 2013-06-01 |  4         | 2013-06-01 | 2013-05-26 |\n",
       "| 2013-06-02 |  5         | 2013-06-01 | 2013-06-02 |\n",
       "| 2013-06-05 | 17         | 2013-06-01 | 2013-06-02 |\n",
       "| 2013-06-07 | 18         | 2013-06-01 | 2013-06-02 |\n",
       "\n"
      ],
      "text/plain": [
       "  Date       Quantity Month      Week      \n",
       "1 2013-05-25  9       2013-05-01 2013-05-19\n",
       "2 2013-05-28  1       2013-05-01 2013-05-26\n",
       "3 2013-05-31 15       2013-05-01 2013-05-26\n",
       "4 2013-06-01  4       2013-06-01 2013-05-26\n",
       "5 2013-06-02  5       2013-06-01 2013-06-02\n",
       "6 2013-06-05 17       2013-06-01 2013-06-02\n",
       "7 2013-06-07 18       2013-06-01 2013-06-02"
      ]
     },
     "metadata": {},
     "output_type": "display_data"
    }
   ],
   "source": [
    "# create variables of the week and month of each observation:\n",
    "log$Month <- as.Date(cut(log$Date,\n",
    "  breaks = \"month\"))\n",
    "log$Week <- as.Date(cut(log$Date,\n",
    "  breaks = \"week\",\n",
    "  start.on.monday = FALSE)) # changes weekly break point to Sunday\n",
    "log"
   ]
  },
  {
   "cell_type": "code",
   "execution_count": 50,
   "id": "6f8f9bcc",
   "metadata": {},
   "outputs": [
    {
     "data": {
      "image/png": "[encoded data removed]",
      "text/plain": [
       "plot without title"
      ]
     },
     "metadata": {},
     "output_type": "display_data"
    }
   ],
   "source": [
    "# graph by month:\n",
    "ggplot(data = log,\n",
    "  aes(Month, Quantity)) +\n",
    "  stat_summary(fun = sum, # adds up all observations for the month\n",
    "    geom = \"bar\") + # or \"line\"\n",
    "  scale_x_date(\n",
    "    labels = date_format(\"%Y-%m\"),\n",
    "    breaks = \"1 month\") # custom x-axis labels"
   ]
  },
  {
   "cell_type": "code",
   "execution_count": 73,
   "id": "bd0e7f88",
   "metadata": {},
   "outputs": [
    {
     "data": {
      "image/png": "[encoded data removed]",
      "text/plain": [
       "plot without title"
      ]
     },
     "metadata": {},
     "output_type": "display_data"
    }
   ],
   "source": [
    "# graph by week:\n",
    "p <- ggplot(data = log,\n",
    "  aes(Week, Quantity)) +\n",
    "  stat_summary(fun = sum, # adds up all observations for the week\n",
    "    geom = \"bar\") + # or \"line\"\n",
    "  scale_x_date(\n",
    "    labels = date_format(\"%m-%d-%Y\"),\n",
    "    breaks = \"1 week\") # custom x-axis labels\n",
    "\n",
    "p.labs <- r + theme_minimal() + labs(title = \"Main Title\", x = \"Week\", y = \"Hours\")\n",
    "p.labs\n"
   ]
  }
 ],
 "metadata": {
  "kernelspec": {
   "display_name": "R",
   "language": "R",
   "name": "ir"
  },
  "language_info": {
   "codemirror_mode": "r",
   "file_extension": ".r",
   "mimetype": "text/x-r-source",
   "name": "R",
   "pygments_lexer": "r",
   "version": "3.6.1"
  }
 },
 "nbformat": 4,
 "nbformat_minor": 5
}
